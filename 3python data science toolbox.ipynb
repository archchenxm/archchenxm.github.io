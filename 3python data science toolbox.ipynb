{
 "cells": [
  {
   "cell_type": "markdown",
   "metadata": {},
   "source": [
    "### WRITING YOUR OWN FUNCTIONS\n",
    "#### user-defined functions"
   ]
  },
  {
   "cell_type": "code",
   "execution_count": null,
   "metadata": {},
   "outputs": [],
   "source": [
    "# built-in functions\n",
    "# str()\n",
    "x=str(5)\n",
    "print(x)\n",
    "print(type(x))"
   ]
  },
  {
   "cell_type": "code",
   "execution_count": null,
   "metadata": {},
   "outputs": [],
   "source": [
    "# defining a function\n",
    "def square():  # <-- function header\n",
    "    new_value=4**2  # <-- function body\n",
    "    print(new_value)\n",
    "square()"
   ]
  },
  {
   "cell_type": "code",
   "execution_count": null,
   "metadata": {},
   "outputs": [],
   "source": [
    "# function parameters\n",
    "def square(value):\n",
    "    new_value=value**2\n",
    "    print(new_value)\n",
    "square(4)"
   ]
  },
  {
   "cell_type": "code",
   "execution_count": null,
   "metadata": {},
   "outputs": [],
   "source": [
    "# return values from functions, assign it to a variable\n",
    "def square(value):\n",
    "    new_value=value**2\n",
    "    return new_value\n",
    "\n",
    "num=square(4)\n",
    "\n",
    "print(num)"
   ]
  },
  {
   "cell_type": "code",
   "execution_count": null,
   "metadata": {},
   "outputs": [],
   "source": [
    "# docstrings, placed in the immediate line after the function header, in between triple double quotes\"\"\"\n",
    "def square(value):\n",
    "    \"\"\"Return the square of a value.\"\"\"\n",
    "    new_value=value**2\n",
    "    return new_value"
   ]
  },
  {
   "cell_type": "markdown",
   "metadata": {},
   "source": [
    "Assigning a variable y to a function that prints a value but does not return a value will result in that variable y being of type NoneType!"
   ]
  },
  {
   "cell_type": "code",
   "execution_count": null,
   "metadata": {},
   "outputs": [],
   "source": [
    "# multiple function parameters\n",
    "def raise_to_power(value1,value2):\n",
    "    \"\"\"Raise value1 to the power of value2.\"\"\"\n",
    "    new_value=value1 ** value2\n",
    "    return new_value\n",
    "\n",
    "result=raise_to_power(2,3)\n",
    "print(result)"
   ]
  },
  {
   "cell_type": "markdown",
   "metadata": {},
   "source": [
    "#### return multiple values: tuples\n",
    "tuples:  \n",
    "like a list - can contain multiple values  \n",
    "immutable - can't modify values!  \n",
    "constructed using parentheses()"
   ]
  },
  {
   "cell_type": "code",
   "execution_count": null,
   "metadata": {},
   "outputs": [],
   "source": [
    "even_nums=(2,4,6)\n",
    "print(type(even_nums))"
   ]
  },
  {
   "cell_type": "code",
   "execution_count": null,
   "metadata": {},
   "outputs": [],
   "source": [
    "# unpack tubles\n",
    "a,b,c=even_nums\n",
    "print(a)\n",
    "print(b)\n",
    "print(c)"
   ]
  },
  {
   "cell_type": "code",
   "execution_count": null,
   "metadata": {},
   "outputs": [],
   "source": [
    "# accessing tuple elements like you do with lists\n",
    "# using zero-indexing\n",
    "even_nums=(2,4,6)\n",
    "\n",
    "print(even_nums[1])\n",
    "\n",
    "second_num=even_nums[1]\n",
    "print(second_num)"
   ]
  },
  {
   "cell_type": "code",
   "execution_count": null,
   "metadata": {},
   "outputs": [],
   "source": [
    "# returning multiple values\n",
    "def raise_both(value1, value2):\n",
    "    \"\"\"Raise value1 to the power of value2 and vice versa\"\"\"\n",
    "    \n",
    "    new_value1=value1**value2\n",
    "    new_value2=value2**value1\n",
    "    \n",
    "    new_tuple=(new_value1,new_value2)\n",
    "    \n",
    "    return new_tuple\n",
    "result=raise_both(2,3)\n",
    "print(result)\n",
    "\n",
    "# the return statement return x, y has the same result as return (x, y)"
   ]
  },
  {
   "cell_type": "markdown",
   "metadata": {},
   "source": [
    "### Default arguments, variable-length arguments and scope"
   ]
  },
  {
   "cell_type": "markdown",
   "metadata": {},
   "source": [
    "scope  \n",
    "global scope:defined in the main body of a script  \n",
    "local scope:defined inside a function  \n",
    "built-in scope:names in the pre-defined built-in module"
   ]
  },
  {
   "cell_type": "code",
   "execution_count": null,
   "metadata": {},
   "outputs": [],
   "source": [
    "# 例子，说明global和local不同\n",
    "new_val=10\n",
    "def square(value):\n",
    "    \"\"\"Returns the square of a number\"\"\"\n",
    "    new_val=value**2\n",
    "    return new_val\n",
    "\n",
    "print(square(3))\n",
    "\n",
    "print(new_val)"
   ]
  },
  {
   "cell_type": "code",
   "execution_count": null,
   "metadata": {},
   "outputs": [],
   "source": [
    "# 若实在找不到local，才会去找global，最后找built-in\n",
    "new_val=10\n",
    "def square(value):\n",
    "    \"\"\"Returns the square of a number\"\"\"\n",
    "    new_value2=new_val**2\n",
    "    return new_value2\n",
    "\n",
    "print(square(3))\n",
    "print(new_val)\n",
    "\n",
    "new_val=20\n",
    "print(square(3))"
   ]
  },
  {
   "cell_type": "code",
   "execution_count": null,
   "metadata": {},
   "outputs": [],
   "source": [
    "# 如何在function里改变一个具有global name的variable\n",
    "new_val=10\n",
    "def square(value):\n",
    "    \"\"\"Returns the square of a number\"\"\"\n",
    "    global new_val # 一个global加上想要access并改名字的global variable\n",
    "    new_val=new_val**2 #把new_val平方\n",
    "    return new_val\n",
    "\n",
    "print(new_val)\n",
    "print(square(3))\n",
    "print(new_val)"
   ]
  },
  {
   "cell_type": "code",
   "execution_count": null,
   "metadata": {},
   "outputs": [],
   "source": [
    "# 查看哪些在built-in里\n",
    "import builtins\n",
    "dir(builtins)"
   ]
  },
  {
   "cell_type": "code",
   "execution_count": 1,
   "metadata": {},
   "outputs": [
    {
     "data": {
      "text/plain": [
       "(6, 5, 6)"
      ]
     },
     "execution_count": 1,
     "metadata": {},
     "output_type": "execute_result"
    }
   ],
   "source": [
    "# nested functions\n",
    "\n",
    "# 重复运算\n",
    "def mod2plus5(x1,x2,x3):\n",
    "    \"\"\"Returns the remainder plus 5 of three values\"\"\"\n",
    "    new_x1=x1 % 2+5\n",
    "    new_x2=x2 % 2+5\n",
    "    new_x3=x3 % 2+5\n",
    "    return new_x1,new_x2,new_x3\n",
    "mod2plus5(1,2,3)"
   ]
  },
  {
   "cell_type": "code",
   "execution_count": 3,
   "metadata": {},
   "outputs": [
    {
     "data": {
      "text/plain": [
       "(6, 5, 6)"
      ]
     },
     "execution_count": 3,
     "metadata": {},
     "output_type": "execute_result"
    }
   ],
   "source": [
    "# nest函数节约运算\n",
    "def mod2plus5(x1,x2,x3): # 这个是enclosing函数\n",
    "    \"\"\"Returns the remainder plus 5 of three values\"\"\"\n",
    "    \n",
    "    def inner(x):\n",
    "        \"\"\"Returns the remainder plus 5 of a value\"\"\"\n",
    "        return x % 2 +5\n",
    "    return inner(x1),inner(x2),inner(x3) # 这个是enclosing函数\n",
    "mod2plus5(1,2,3)"
   ]
  },
  {
   "cell_type": "code",
   "execution_count": 5,
   "metadata": {},
   "outputs": [
    {
     "name": "stdout",
     "output_type": "stream",
     "text": [
      "4 64\n"
     ]
    }
   ],
   "source": [
    "# nest函数输出复合函数\n",
    "def raise_val(n):\n",
    "    \"\"\"Return the inner function\"\"\"\n",
    "    def inner(x):\n",
    "        \"\"\"Raise x to the power of n\"\"\"\n",
    "        raised=x**n\n",
    "        return raised\n",
    "    return inner #输出的是一个需要输入x，输出x的n次方的函数\n",
    "\n",
    "square=raise_val(2) # raise_val(2)是一个将所有输入平方的函数\n",
    "cube=raise_val(3) # raise_val(3)是一个将所有输入立方的函数\n",
    "print(square(2),cube(4))"
   ]
  },
  {
   "cell_type": "code",
   "execution_count": 16,
   "metadata": {},
   "outputs": [],
   "source": [
    "# 在inner函数里改变在enclosing函数里的值，用nonlocal\n",
    "\n",
    "def outer():\n",
    "    \"\"\"Prints the value of n.\"\"\"\n",
    "    n=1\n",
    "    \n",
    "    def inner():\n",
    "        nonlocal n\n",
    "        n=2\n",
    "        print(n)\n",
    "    inner()\n",
    "    print(n)"
   ]
  },
  {
   "cell_type": "code",
   "execution_count": 18,
   "metadata": {},
   "outputs": [
    {
     "name": "stdout",
     "output_type": "stream",
     "text": [
      "2\n",
      "2\n"
     ]
    }
   ],
   "source": [
    "outer()"
   ]
  },
  {
   "cell_type": "markdown",
   "metadata": {},
   "source": [
    "#### default and flexible arguments  \n"
   ]
  },
  {
   "cell_type": "code",
   "execution_count": 19,
   "metadata": {},
   "outputs": [
    {
     "name": "stdout",
     "output_type": "stream",
     "text": [
      "81\n",
      "9\n"
     ]
    }
   ],
   "source": [
    "# 如何设置default argument\n",
    "def power(number, pow=1): # 用'='加一个值代表default\n",
    "    \"\"\"Raise number to the power of pow\"\"\"\n",
    "    new_value=number**pow\n",
    "    return new_value\n",
    "print(power(9,2))\n",
    "print(power(9))"
   ]
  },
  {
   "cell_type": "code",
   "execution_count": 22,
   "metadata": {},
   "outputs": [
    {
     "data": {
      "text/plain": [
       "17"
      ]
     },
     "execution_count": 22,
     "metadata": {},
     "output_type": "execute_result"
    }
   ],
   "source": [
    "# 如何设置flexible arguments，不确定有多少个argument，用*args，这是一个tuple\n",
    "def add_all(*args):\n",
    "    \"\"\"Sum all values in *args together\"\"\"\n",
    "    # initialize sum\n",
    "    sum_all=0\n",
    "    # accumulate the sum\n",
    "    for num in args:\n",
    "        sum_all += num # +=意思是相加，然后返回值给前一个变量\n",
    "    return sum_all\n",
    "\n",
    "add_all(1,3,6,7)"
   ]
  },
  {
   "cell_type": "code",
   "execution_count": 28,
   "metadata": {},
   "outputs": [
    {
     "name": "stdout",
     "output_type": "stream",
     "text": [
      "name:dumbledore\n",
      "job:headmaster\n"
     ]
    }
   ],
   "source": [
    "# **kwargs，输出dict里的key-value pair\n",
    "\n",
    "def print_all(**kwargs):\n",
    "    \"\"\"Print out key-value pairs in **kwargs\"\"\"\n",
    "    \n",
    "    # Print out the key-value pairs\n",
    "    for key, value in kwargs.items(): # kwargs是一个dict\n",
    "        print(key + \":\" + value)\n",
    "              \n",
    "print_all(name='dumbledore',job='headmaster')"
   ]
  },
  {
   "cell_type": "markdown",
   "metadata": {},
   "source": [
    "items() method is used to return the list with all dictionary keys with values."
   ]
  },
  {
   "cell_type": "code",
   "execution_count": null,
   "metadata": {},
   "outputs": [],
   "source": []
  }
 ],
 "metadata": {
  "kernelspec": {
   "display_name": "Python 3",
   "language": "python",
   "name": "python3"
  },
  "language_info": {
   "codemirror_mode": {
    "name": "ipython",
    "version": 3
   },
   "file_extension": ".py",
   "mimetype": "text/x-python",
   "name": "python",
   "nbconvert_exporter": "python",
   "pygments_lexer": "ipython3",
   "version": "3.7.3"
  }
 },
 "nbformat": 4,
 "nbformat_minor": 2
}
